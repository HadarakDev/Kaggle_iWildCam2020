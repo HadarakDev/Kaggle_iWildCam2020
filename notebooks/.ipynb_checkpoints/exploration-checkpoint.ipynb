{
 "cells": [
  {
   "cell_type": "code",
   "execution_count": 2,
   "metadata": {},
   "outputs": [],
   "source": [
    "import pandas as pd\n",
    "import json\n",
    "import matplotlib.pyplot as plt"
   ]
  },
  {
   "cell_type": "code",
   "execution_count": 8,
   "metadata": {},
   "outputs": [],
   "source": [
    "with open('../../dataset/iwildcam2020_train_annotations.json', encoding='utf-8') as json_file:\n",
    "    train_annotations_2020_json = json.load(json_file)\n",
    "train_annotations_2019 = pd.read_csv('../../dataset/train_2019.csv')\n",
    "    "
   ]
  },
  {
   "cell_type": "code",
   "execution_count": 62,
   "metadata": {},
   "outputs": [],
   "source": [
    "df_categories = pd.DataFrame(train_annotations_json[\"categories\"])\n",
    "df_annotations = pd.DataFrame(train_annotations_json[\"annotations\"])"
   ]
  },
  {
   "cell_type": "markdown",
   "metadata": {},
   "source": [
    "# COUNT WITH CATEGORIES (JSON SECTION)"
   ]
  },
  {
   "cell_type": "code",
   "execution_count": 61,
   "metadata": {},
   "outputs": [],
   "source": [
    "ordered_count = df_categories[\"count\"].sort_values(ascending=False)"
   ]
  },
  {
   "cell_type": "markdown",
   "metadata": {},
   "source": [
    "##### 20 top populated categories"
   ]
  },
  {
   "cell_type": "code",
   "execution_count": 58,
   "metadata": {},
   "outputs": [
    {
     "data": {
      "text/plain": [
       "115    1\n",
       "116    1\n",
       "134    1\n",
       "253    1\n",
       "117    1\n",
       "217    1\n",
       "220    1\n",
       "118    1\n",
       "208    1\n",
       "260    0\n",
       "261    0\n",
       "160    0\n",
       "225    0\n",
       "211    0\n",
       "128    0\n",
       "203    0\n",
       "172    0\n",
       "59     0\n",
       "158    0\n",
       "101    0\n",
       "Name: count, dtype: int64"
      ]
     },
     "execution_count": 58,
     "metadata": {},
     "output_type": "execute_result"
    }
   ],
   "source": [
    "ordered_count.tail(20)"
   ]
  },
  {
   "cell_type": "markdown",
   "metadata": {},
   "source": [
    "##### 20 least populated categories"
   ]
  },
  {
   "cell_type": "code",
   "execution_count": 50,
   "metadata": {},
   "outputs": [
    {
     "data": {
      "text/plain": [
       "0      78981\n",
       "36     33313\n",
       "188    16713\n",
       "189    12908\n",
       "146     9052\n",
       "48      8517\n",
       "1       6355\n",
       "2       5833\n",
       "8       5824\n",
       "32      5118\n",
       "187     4542\n",
       "238     4477\n",
       "4       4453\n",
       "17      4099\n",
       "195     3921\n",
       "44      3614\n",
       "191     3452\n",
       "65      3426\n",
       "223     3120\n",
       "190     2959\n",
       "Name: count, dtype: int64"
      ]
     },
     "execution_count": 50,
     "metadata": {},
     "output_type": "execute_result"
    }
   ],
   "source": [
    "ordered_count.head(20)"
   ]
  },
  {
   "cell_type": "code",
   "execution_count": 24,
   "metadata": {},
   "outputs": [
    {
     "data": {
      "text/plain": [
       "78981"
      ]
     },
     "execution_count": 24,
     "metadata": {},
     "output_type": "execute_result"
    }
   ],
   "source": [
    "df_categories[\"count\"].max()"
   ]
  },
  {
   "cell_type": "code",
   "execution_count": 26,
   "metadata": {},
   "outputs": [
    {
     "data": {
      "text/plain": [
       "1026.1685393258426"
      ]
     },
     "execution_count": 26,
     "metadata": {},
     "output_type": "execute_result"
    }
   ],
   "source": [
    "df_categories[\"count\"].mean()"
   ]
  },
  {
   "cell_type": "code",
   "execution_count": 28,
   "metadata": {},
   "outputs": [
    {
     "data": {
      "text/plain": [
       "33.0"
      ]
     },
     "execution_count": 28,
     "metadata": {},
     "output_type": "execute_result"
    }
   ],
   "source": [
    "df_categories[\"count\"].median()"
   ]
  },
  {
   "cell_type": "markdown",
   "metadata": {},
   "source": [
    "# COUNT WITH ANNOTATION ( JSON SECTION )"
   ]
  },
  {
   "cell_type": "code",
   "execution_count": 69,
   "metadata": {},
   "outputs": [],
   "source": [
    "ordered_count_annot = df_annotations['category_id'].value_counts()"
   ]
  },
  {
   "cell_type": "code",
   "execution_count": 77,
   "metadata": {},
   "outputs": [
    {
     "data": {
      "text/plain": [
       "0      74217\n",
       "372    16713\n",
       "374    12908\n",
       "96      8517\n",
       "317     7514\n",
       "2       6270\n",
       "3       5833\n",
       "10      5632\n",
       "71      5118\n",
       "371     4542\n",
       "6       4368\n",
       "24      3922\n",
       "380     3921\n",
       "90      3614\n",
       "376     3452\n",
       "115     3426\n",
       "558     3120\n",
       "375     2959\n",
       "79      2500\n",
       "111     2297\n",
       "91      2186\n",
       "243     1937\n",
       "110     1755\n",
       "112     1499\n",
       "240     1366\n",
       "378     1343\n",
       "379     1300\n",
       "315     1254\n",
       "316     1193\n",
       "8       1181\n",
       "384     1119\n",
       "99      1099\n",
       "259     1015\n",
       "137     1006\n",
       "26       970\n",
       "318      934\n",
       "144      887\n",
       "321      770\n",
       "258      620\n",
       "139      570\n",
       "78       562\n",
       "256      545\n",
       "290      520\n",
       "116      513\n",
       "245      510\n",
       "103      449\n",
       "50       443\n",
       "566      380\n",
       "12       350\n",
       "97       338\n",
       "Name: category_id, dtype: int64"
      ]
     },
     "execution_count": 77,
     "metadata": {},
     "output_type": "execute_result"
    }
   ],
   "source": [
    "ordered_count_annot.head(50)"
   ]
  },
  {
   "cell_type": "code",
   "execution_count": 76,
   "metadata": {},
   "outputs": [
    {
     "data": {
      "text/plain": [
       "405    6\n",
       "352    6\n",
       "356    6\n",
       "106    6\n",
       "89     6\n",
       "133    6\n",
       "80     6\n",
       "166    6\n",
       "273    6\n",
       "324    6\n",
       "323    6\n",
       "175    5\n",
       "25     5\n",
       "413    5\n",
       "16     4\n",
       "307    4\n",
       "419    3\n",
       "119    3\n",
       "130    3\n",
       "44     3\n",
       "418    3\n",
       "415    3\n",
       "322    3\n",
       "20     3\n",
       "333    3\n",
       "341    3\n",
       "332    3\n",
       "342    3\n",
       "77     3\n",
       "355    3\n",
       "92     3\n",
       "330    3\n",
       "257    2\n",
       "412    2\n",
       "235    2\n",
       "407    2\n",
       "406    2\n",
       "408    1\n",
       "402    1\n",
       "251    1\n",
       "250    1\n",
       "296    1\n",
       "114    1\n",
       "420    1\n",
       "252    1\n",
       "349    1\n",
       "306    1\n",
       "417    1\n",
       "229    1\n",
       "253    1\n",
       "Name: category_id, dtype: int64"
      ]
     },
     "execution_count": 76,
     "metadata": {},
     "output_type": "execute_result"
    }
   ],
   "source": [
    "ordered_count_annot.tail(50)"
   ]
  },
  {
   "cell_type": "code",
   "execution_count": 75,
   "metadata": {},
   "outputs": [
    {
     "data": {
      "text/plain": [
       "74217"
      ]
     },
     "execution_count": 75,
     "metadata": {},
     "output_type": "execute_result"
    }
   ],
   "source": [
    "ordered_count_annot.max()"
   ]
  },
  {
   "cell_type": "code",
   "execution_count": 73,
   "metadata": {},
   "outputs": [
    {
     "data": {
      "text/plain": [
       "1009.0694444444445"
      ]
     },
     "execution_count": 73,
     "metadata": {},
     "output_type": "execute_result"
    }
   ],
   "source": [
    "ordered_count_annot.mean()"
   ]
  },
  {
   "cell_type": "code",
   "execution_count": 74,
   "metadata": {},
   "outputs": [
    {
     "data": {
      "text/plain": [
       "32.0"
      ]
     },
     "execution_count": 74,
     "metadata": {},
     "output_type": "execute_result"
    }
   ],
   "source": [
    "ordered_count_annot.median()"
   ]
  },
  {
   "cell_type": "markdown",
   "metadata": {},
   "source": [
    "### compare categories 2019 And 2020"
   ]
  },
  {
   "cell_type": "code",
   "execution_count": null,
   "metadata": {},
   "outputs": [],
   "source": [
    "df_categories_2020 = pd.DataFrame(train_annotations_json[\"categories\"])\n"
   ]
  },
  {
   "cell_type": "code",
   "execution_count": 12,
   "metadata": {},
   "outputs": [
    {
     "data": {
      "text/plain": [
       "0         19\n",
       "1         19\n",
       "2          0\n",
       "3          0\n",
       "4          0\n",
       "          ..\n",
       "196294     0\n",
       "196295     0\n",
       "196296     4\n",
       "196297     0\n",
       "196298     0\n",
       "Name: category_id, Length: 196299, dtype: int64"
      ]
     },
     "execution_count": 12,
     "metadata": {},
     "output_type": "execute_result"
    }
   ],
   "source": [
    "train_annotations_2019[\"category_id\"]"
   ]
  },
  {
   "cell_type": "code",
   "execution_count": null,
   "metadata": {},
   "outputs": [],
   "source": []
  }
 ],
 "metadata": {
  "kernelspec": {
   "display_name": "Python 3",
   "language": "python",
   "name": "python3"
  },
  "language_info": {
   "codemirror_mode": {
    "name": "ipython",
    "version": 3
   },
   "file_extension": ".py",
   "mimetype": "text/x-python",
   "name": "python",
   "nbconvert_exporter": "python",
   "pygments_lexer": "ipython3",
   "version": "3.7.7"
  },
  "pycharm": {
   "stem_cell": {
    "cell_type": "raw",
    "metadata": {
     "collapsed": false
    },
    "source": []
   }
  }
 },
 "nbformat": 4,
 "nbformat_minor": 4
}
