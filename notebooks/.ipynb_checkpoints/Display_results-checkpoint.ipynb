{
 "cells": [
  {
   "cell_type": "code",
   "execution_count": null,
   "metadata": {},
   "outputs": [],
   "source": [
    "nn_4096_0.0001_10_selu_adam_[128,128,128,128]_aug_without_empty"
   ]
  },
  {
   "cell_type": "code",
   "execution_count": 1,
   "metadata": {},
   "outputs": [],
   "source": [
    "import pandas as pd"
   ]
  },
  {
   "cell_type": "code",
   "execution_count": 8,
   "metadata": {},
   "outputs": [],
   "source": [
    "history = pd.read_csv('../results/nn_4096_0.001_20_selu_adam_[256,256,256,256]_aug_without_empty.csv')"
   ]
  },
  {
   "cell_type": "code",
   "execution_count": 9,
   "metadata": {},
   "outputs": [
    {
     "data": {
      "text/html": [
       "<div>\n",
       "<style scoped>\n",
       "    .dataframe tbody tr th:only-of-type {\n",
       "        vertical-align: middle;\n",
       "    }\n",
       "\n",
       "    .dataframe tbody tr th {\n",
       "        vertical-align: top;\n",
       "    }\n",
       "\n",
       "    .dataframe thead th {\n",
       "        text-align: right;\n",
       "    }\n",
       "</style>\n",
       "<table border=\"1\" class=\"dataframe\">\n",
       "  <thead>\n",
       "    <tr style=\"text-align: right;\">\n",
       "      <th></th>\n",
       "      <th>loss</th>\n",
       "      <th>categorical_accuracy</th>\n",
       "      <th>val_loss</th>\n",
       "      <th>val_categorical_accuracy</th>\n",
       "    </tr>\n",
       "  </thead>\n",
       "  <tbody>\n",
       "    <tr>\n",
       "      <th>0</th>\n",
       "      <td>4.646845</td>\n",
       "      <td>0.085226</td>\n",
       "      <td>4.167640</td>\n",
       "      <td>0.103604</td>\n",
       "    </tr>\n",
       "    <tr>\n",
       "      <th>1</th>\n",
       "      <td>3.895874</td>\n",
       "      <td>0.131144</td>\n",
       "      <td>3.684830</td>\n",
       "      <td>0.162973</td>\n",
       "    </tr>\n",
       "    <tr>\n",
       "      <th>2</th>\n",
       "      <td>3.546515</td>\n",
       "      <td>0.181098</td>\n",
       "      <td>3.405414</td>\n",
       "      <td>0.205168</td>\n",
       "    </tr>\n",
       "    <tr>\n",
       "      <th>3</th>\n",
       "      <td>3.318834</td>\n",
       "      <td>0.215889</td>\n",
       "      <td>3.247462</td>\n",
       "      <td>0.230646</td>\n",
       "    </tr>\n",
       "    <tr>\n",
       "      <th>4</th>\n",
       "      <td>3.169686</td>\n",
       "      <td>0.235721</td>\n",
       "      <td>3.097902</td>\n",
       "      <td>0.249895</td>\n",
       "    </tr>\n",
       "    <tr>\n",
       "      <th>5</th>\n",
       "      <td>3.022022</td>\n",
       "      <td>0.257734</td>\n",
       "      <td>2.992979</td>\n",
       "      <td>0.265776</td>\n",
       "    </tr>\n",
       "    <tr>\n",
       "      <th>6</th>\n",
       "      <td>2.926755</td>\n",
       "      <td>0.271157</td>\n",
       "      <td>2.893228</td>\n",
       "      <td>0.281200</td>\n",
       "    </tr>\n",
       "    <tr>\n",
       "      <th>7</th>\n",
       "      <td>2.832420</td>\n",
       "      <td>0.286802</td>\n",
       "      <td>2.785711</td>\n",
       "      <td>0.298993</td>\n",
       "    </tr>\n",
       "    <tr>\n",
       "      <th>8</th>\n",
       "      <td>2.760752</td>\n",
       "      <td>0.298911</td>\n",
       "      <td>2.737209</td>\n",
       "      <td>0.304147</td>\n",
       "    </tr>\n",
       "    <tr>\n",
       "      <th>9</th>\n",
       "      <td>2.694934</td>\n",
       "      <td>0.311070</td>\n",
       "      <td>2.654905</td>\n",
       "      <td>0.321156</td>\n",
       "    </tr>\n",
       "    <tr>\n",
       "      <th>10</th>\n",
       "      <td>2.639573</td>\n",
       "      <td>0.321688</td>\n",
       "      <td>2.618770</td>\n",
       "      <td>0.324853</td>\n",
       "    </tr>\n",
       "    <tr>\n",
       "      <th>11</th>\n",
       "      <td>2.577905</td>\n",
       "      <td>0.332292</td>\n",
       "      <td>2.576753</td>\n",
       "      <td>0.334978</td>\n",
       "    </tr>\n",
       "    <tr>\n",
       "      <th>12</th>\n",
       "      <td>2.540402</td>\n",
       "      <td>0.339351</td>\n",
       "      <td>2.518037</td>\n",
       "      <td>0.344685</td>\n",
       "    </tr>\n",
       "    <tr>\n",
       "      <th>13</th>\n",
       "      <td>2.490060</td>\n",
       "      <td>0.349924</td>\n",
       "      <td>2.480803</td>\n",
       "      <td>0.355484</td>\n",
       "    </tr>\n",
       "    <tr>\n",
       "      <th>14</th>\n",
       "      <td>2.478207</td>\n",
       "      <td>0.349806</td>\n",
       "      <td>2.458638</td>\n",
       "      <td>0.353518</td>\n",
       "    </tr>\n",
       "    <tr>\n",
       "      <th>15</th>\n",
       "      <td>2.444287</td>\n",
       "      <td>0.359797</td>\n",
       "      <td>2.432168</td>\n",
       "      <td>0.366666</td>\n",
       "    </tr>\n",
       "    <tr>\n",
       "      <th>16</th>\n",
       "      <td>2.398839</td>\n",
       "      <td>0.367242</td>\n",
       "      <td>2.432793</td>\n",
       "      <td>0.364517</td>\n",
       "    </tr>\n",
       "    <tr>\n",
       "      <th>17</th>\n",
       "      <td>2.374439</td>\n",
       "      <td>0.372265</td>\n",
       "      <td>2.361885</td>\n",
       "      <td>0.379414</td>\n",
       "    </tr>\n",
       "    <tr>\n",
       "      <th>18</th>\n",
       "      <td>2.344118</td>\n",
       "      <td>0.378906</td>\n",
       "      <td>2.354601</td>\n",
       "      <td>0.378904</td>\n",
       "    </tr>\n",
       "    <tr>\n",
       "      <th>19</th>\n",
       "      <td>2.326199</td>\n",
       "      <td>0.381397</td>\n",
       "      <td>2.374562</td>\n",
       "      <td>0.375772</td>\n",
       "    </tr>\n",
       "  </tbody>\n",
       "</table>\n",
       "</div>"
      ],
      "text/plain": [
       "        loss  categorical_accuracy  val_loss  val_categorical_accuracy\n",
       "0   4.646845              0.085226  4.167640                  0.103604\n",
       "1   3.895874              0.131144  3.684830                  0.162973\n",
       "2   3.546515              0.181098  3.405414                  0.205168\n",
       "3   3.318834              0.215889  3.247462                  0.230646\n",
       "4   3.169686              0.235721  3.097902                  0.249895\n",
       "5   3.022022              0.257734  2.992979                  0.265776\n",
       "6   2.926755              0.271157  2.893228                  0.281200\n",
       "7   2.832420              0.286802  2.785711                  0.298993\n",
       "8   2.760752              0.298911  2.737209                  0.304147\n",
       "9   2.694934              0.311070  2.654905                  0.321156\n",
       "10  2.639573              0.321688  2.618770                  0.324853\n",
       "11  2.577905              0.332292  2.576753                  0.334978\n",
       "12  2.540402              0.339351  2.518037                  0.344685\n",
       "13  2.490060              0.349924  2.480803                  0.355484\n",
       "14  2.478207              0.349806  2.458638                  0.353518\n",
       "15  2.444287              0.359797  2.432168                  0.366666\n",
       "16  2.398839              0.367242  2.432793                  0.364517\n",
       "17  2.374439              0.372265  2.361885                  0.379414\n",
       "18  2.344118              0.378906  2.354601                  0.378904\n",
       "19  2.326199              0.381397  2.374562                  0.375772"
      ]
     },
     "execution_count": 9,
     "metadata": {},
     "output_type": "execute_result"
    }
   ],
   "source": [
    "history"
   ]
  },
  {
   "cell_type": "code",
   "execution_count": 10,
   "metadata": {},
   "outputs": [
    {
     "data": {
      "text/plain": [
       "Text(0.5, 1.0, 'Training and validation loss')"
      ]
     },
     "execution_count": 10,
     "metadata": {},
     "output_type": "execute_result"
    },
    {
     "data": {
      "image/png": "[encoded data removed]",
      "text/plain": [
       "<Figure size 432x288 with 1 Axes>"
      ]
     },
     "metadata": {
      "needs_background": "light"
     },
     "output_type": "display_data"
    },
    {
     "data": {
      "image/png": "[encoded data removed]",
      "text/plain": [
       "<Figure size 432x288 with 1 Axes>"
      ]
     },
     "metadata": {
      "needs_background": "light"
     },
     "output_type": "display_data"
    }
   ],
   "source": [
    "%matplotlib inline\n",
    "\n",
    "import matplotlib.pyplot as plt\n",
    "\n",
    "#-----------------------------------------------------------\n",
    "# Retrieve a list of list results on training and test data\n",
    "# sets for each training epoch\n",
    "#-----------------------------------------------------------\n",
    "acc      = history['categorical_accuracy']\n",
    "val_acc  = history['val_categorical_accuracy']\n",
    "loss     = history['loss']\n",
    "val_loss = history['val_loss']\n",
    "\n",
    "epochs   = range(len(acc)) # Get number of epochs\n",
    "\n",
    "#------------------------------------------------\n",
    "# Plot training and validation accuracy per epoch\n",
    "#------------------------------------------------\n",
    "plt.plot(epochs, acc)\n",
    "plt.plot(epochs, val_acc)\n",
    "plt.title('Training and validation accuracy')\n",
    "plt.figure()\n",
    "\n",
    "#------------------------------------------------\n",
    "# Plot training and validation loss per epoch\n",
    "#------------------------------------------------\n",
    "plt.plot(epochs, loss)\n",
    "plt.plot(epochs, val_loss)\n",
    "plt.title('Training and validation loss')"
   ]
  },
  {
   "cell_type": "code",
   "execution_count": null,
   "metadata": {},
   "outputs": [],
   "source": []
  }
 ],
 "metadata": {
  "kernelspec": {
   "display_name": "Python 3",
   "language": "python",
   "name": "python3"
  },
  "language_info": {
   "codemirror_mode": {
    "name": "ipython",
    "version": 3
   },
   "file_extension": ".py",
   "mimetype": "text/x-python",
   "name": "python",
   "nbconvert_exporter": "python",
   "pygments_lexer": "ipython3",
   "version": "3.7.7"
  }
 },
 "nbformat": 4,
 "nbformat_minor": 4
}
